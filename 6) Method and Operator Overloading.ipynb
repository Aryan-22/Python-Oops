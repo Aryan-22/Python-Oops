{
 "cells": [
  {
   "cell_type": "code",
   "execution_count": null,
   "metadata": {},
   "outputs": [],
   "source": [
    "'''\n",
    "to control the behaviour of a function depending on incoming parameters. Imagine that you are developing a plot function and you want to control whether or not to display a legend, confidence intervals of a graph or a plot type. For this purpose, you define parameters or let's name them triggers depending on which you switch the behaviour of the function (e.g. we can define the following parameters: show legend = True, show_conf_intervals = True\n",
    "'''"
   ]
  },
  {
   "cell_type": "code",
   "execution_count": null,
   "metadata": {},
   "outputs": [],
   "source": [
    "'''\n",
    "To overload a method just define a set of parameters with default values. I personally call them states.\n",
    "As default states values: True/False or None can be used.\n",
    "\n",
    "note--> as mentioned earlier overloading is not by default supported in python\n",
    "'''"
   ]
  },
  {
   "cell_type": "markdown",
   "metadata": {},
   "source": [
    "METHOD OVERLOADING"
   ]
  },
  {
   "cell_type": "code",
   "execution_count": 6,
   "metadata": {},
   "outputs": [
    {
     "name": "stdout",
     "output_type": "stream",
     "text": [
      "El PRIMO\n",
      "monster\n"
     ]
    }
   ],
   "source": [
    "\n",
    "class gc:\n",
    "    __counter = 0\n",
    "\n",
    "\n",
    "    def __init__(self, name,age,hair_color):\n",
    "        self.name = name\n",
    "        self.age = age\n",
    "        self.hair_color = hair_color\n",
    "        self.__class__.__counter += 1\n",
    "    \n",
    "    def __del__(self):\n",
    "        self.__class__.__counter -= 1\n",
    "\n",
    "class child(gc):\n",
    "    def __init__(self,name,age,hair_color,hands):\n",
    "        super().__init__(name,age,hair_color)\n",
    "        self.hands = hands\n",
    "    #this is method overloading(pesudo) as method's  behaviour changes with parameters\n",
    "    def colors(self,human= False):\n",
    "        if not  human:\n",
    "            return \"monster\"\n",
    "        else:\n",
    "            return \"El PRIMO\"\n",
    "        \n",
    "obj1 = child(\"Aryan\",21,\"brown\",6)\n",
    "obj2 = child(\"EMZ\",21,\"purple\",6)\n",
    "print(obj1.colors(human=True))\n",
    "print(obj1.colors(human= False))\n",
    "\n",
    "    "
   ]
  },
  {
   "cell_type": "code",
   "execution_count": null,
   "metadata": {},
   "outputs": [],
   "source": [
    "'''\n",
    "In Python, you cannot overload dunder (double underscore) methods in the traditional sense of having multiple methods with the same name but different parameters. However, you can override dunder methods to customize the behavior of built-in operations for your class.\n",
    "'''"
   ]
  },
  {
   "cell_type": "code",
   "execution_count": 11,
   "metadata": {},
   "outputs": [
    {
     "name": "stdout",
     "output_type": "stream",
     "text": [
      "This is overriding of __str__ which belongs to object class\n"
     ]
    }
   ],
   "source": [
    "class gc:\n",
    "    __counter = 0\n",
    "    def __init__(self,name,age,hair_color):\n",
    "        self.name = name\n",
    "        self.age = age\n",
    "        self.hair_color = hair_color\n",
    "        self.__class__.__counter += 1\n",
    "\n",
    "    def __del__(self):\n",
    "        self.__class__.__counter -= 1\n",
    "\n",
    "class child(gc):\n",
    "    def __init__(self,name,age,hair_color,hands):\n",
    "        super().__init__(name,age,hair_color)\n",
    "        self.hands = hands\n",
    "    def __str__(self):\n",
    "        return \"This is overriding of __str__ which belongs to object class\"\n",
    "  \n",
    "obj1 = child(\"Mortis\",50,\"purple\",2)\n",
    "print(obj1)"
   ]
  },
  {
   "cell_type": "markdown",
   "metadata": {},
   "source": [
    "Operator Overloading"
   ]
  },
  {
   "cell_type": "code",
   "execution_count": null,
   "metadata": {},
   "outputs": [],
   "source": [
    "'''\n",
    "It changes the logic of operator such as addition, multiplication and so forth apart from its default operation (e.g. numbers will be added, strings will be concatenated and lists will be merged). The best and simple example here is probably coordinates of a point which we want to add with another point (i.e. add two objects together).\n",
    "'''"
   ]
  },
  {
   "cell_type": "code",
   "execution_count": null,
   "metadata": {},
   "outputs": [],
   "source": [
    "'''\n",
    "Unlike method overloading which is not supported by python by default\n",
    "python supports operator overloading by default \n",
    "'''"
   ]
  },
  {
   "cell_type": "code",
   "execution_count": 19,
   "metadata": {},
   "outputs": [
    {
     "name": "stdout",
     "output_type": "stream",
     "text": [
      "[4,3]\n",
      "[-2,1]\n",
      "[3,2]\n",
      "[0.3333333333333333,2.0]\n"
     ]
    }
   ],
   "source": [
    "class Vector:\n",
    "    def __init__(self,x,y):\n",
    "        self.x = x\n",
    "        self.y = y\n",
    "    \n",
    "    def __add__(self,other):\n",
    "        if isinstance(other,Vector):\n",
    "            return Vector(self.x + other.x,self.y + other.y)\n",
    "        return NotImplemented\n",
    "        \n",
    "    def __sub__(self,other):\n",
    "        if isinstance(other,Vector):\n",
    "            return Vector(self.x - other.x,self.y - other.y)\n",
    "        return NotImplemented\n",
    "    def __mul__(self,other):\n",
    "        if isinstance(other,Vector):\n",
    "            return Vector(self.x * other.x,self.y * other.y)\n",
    "        return NotImplemented\n",
    "        \n",
    "    def __truediv__(self,other):\n",
    "        if isinstance(other,Vector) and other.x != 0 and other.y != 0:\n",
    "            return Vector(self.x / other.x,self.y / other.y)\n",
    "        return NotImplemented\n",
    "    def __str__(self):\n",
    "        return f\"[{self.x},{self.y}]\"\n",
    "    \n",
    "v1 = Vector(1,2)\n",
    "v2 = Vector(3,1)\n",
    "add = v1 + v2\n",
    "sub = v1 - v2\n",
    "mul = v1 * v2\n",
    "div = v1 / v2\n",
    "\n",
    "print(add)\n",
    "print(sub)\n",
    "print(mul)\n",
    "print(div)\n",
    "#as you can see i overloaded the operators so easily"
   ]
  },
  {
   "cell_type": "code",
   "execution_count": 20,
   "metadata": {},
   "outputs": [
    {
     "name": "stdout",
     "output_type": "stream",
     "text": [
      "[7,12]\n"
     ]
    }
   ],
   "source": [
    "#practice\n",
    "class Vector:\n",
    "    def __init__(self,x,y):\n",
    "        self.x = x\n",
    "        self.y = y\n",
    "    \n",
    "    def __add__(self,other):\n",
    "        if isinstance(other,Vector):\n",
    "            return Vector(self.x + other.x,self.y + other.y)\n",
    "    \n",
    "    def __str__(self):\n",
    "        return f\"[{self.x},{self.y}]\"\n",
    "v1 = Vector(2,3)\n",
    "v2 = Vector(5,9)\n",
    "print(v1 + v2)"
   ]
  }
 ],
 "metadata": {
  "kernelspec": {
   "display_name": "Python 3",
   "language": "python",
   "name": "python3"
  },
  "language_info": {
   "codemirror_mode": {
    "name": "ipython",
    "version": 3
   },
   "file_extension": ".py",
   "mimetype": "text/x-python",
   "name": "python",
   "nbconvert_exporter": "python",
   "pygments_lexer": "ipython3",
   "version": "3.11.4"
  }
 },
 "nbformat": 4,
 "nbformat_minor": 2
}
