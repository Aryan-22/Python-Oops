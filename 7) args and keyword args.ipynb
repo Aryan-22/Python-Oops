{
 "cells": [
  {
   "cell_type": "markdown",
   "metadata": {},
   "source": [
    "*args"
   ]
  },
  {
   "cell_type": "code",
   "execution_count": null,
   "metadata": {},
   "outputs": [],
   "source": [
    "'''\n",
    "*args stands for arguments. It allows creating a tuple of positional arguments with arbitrary length. The main operator here is the star whereas arg is just a variable name and can be any. Star operator allows unpacking elements of objects such as tuples and lists. With the help of *args we can provide any number of arguments for a function which provides function flexibility and stability\n",
    "'''"
   ]
  },
  {
   "cell_type": "code",
   "execution_count": 1,
   "metadata": {},
   "outputs": [
    {
     "name": "stdout",
     "output_type": "stream",
     "text": [
      "<class 'tuple'>\n",
      "59\n"
     ]
    }
   ],
   "source": [
    "def f(*args):\n",
    "    print(type(args))\n",
    "    return sum(args)\n",
    "print(f(1,2,2,3,3,2,3,12,31))"
   ]
  },
  {
   "cell_type": "markdown",
   "metadata": {},
   "source": [
    "**kwargs"
   ]
  },
  {
   "cell_type": "code",
   "execution_count": null,
   "metadata": {},
   "outputs": [],
   "source": [
    "'''\n",
    "**kwargs stands for keyword arguments. It allows creating a dictionary of keyword arguments with arbitrary length. The main operator here is a double star, kwargs is again just a variable name and can be any.\n",
    "'''"
   ]
  },
  {
   "cell_type": "code",
   "execution_count": 2,
   "metadata": {},
   "outputs": [
    {
     "name": "stdout",
     "output_type": "stream",
     "text": [
      "600\n"
     ]
    }
   ],
   "source": [
    "def f(a = 100,b = 500):\n",
    "    return a + b\n",
    "print(f())"
   ]
  },
  {
   "cell_type": "code",
   "execution_count": 3,
   "metadata": {},
   "outputs": [
    {
     "name": "stdout",
     "output_type": "stream",
     "text": [
      "<class 'dict'>\n",
      "{'a': 100, 'b': 500}\n",
      "0\n"
     ]
    }
   ],
   "source": [
    "def f(**kwargs):\n",
    "    print(type(kwargs))\n",
    "    print(kwargs)\n",
    "    return 0\n",
    "print(f(a = 100,b = 500))\n",
    "    \n"
   ]
  },
  {
   "cell_type": "markdown",
   "metadata": {},
   "source": []
  }
 ],
 "metadata": {
  "kernelspec": {
   "display_name": "Python 3",
   "language": "python",
   "name": "python3"
  },
  "language_info": {
   "codemirror_mode": {
    "name": "ipython",
    "version": 3
   },
   "file_extension": ".py",
   "mimetype": "text/x-python",
   "name": "python",
   "nbconvert_exporter": "python",
   "pygments_lexer": "ipython3",
   "version": "3.11.4"
  }
 },
 "nbformat": 4,
 "nbformat_minor": 2
}
