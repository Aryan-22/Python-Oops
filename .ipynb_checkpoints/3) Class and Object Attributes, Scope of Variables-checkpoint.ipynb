{
 "cells": [
  {
   "cell_type": "code",
   "execution_count": 6,
   "id": "eb2e7d8c",
   "metadata": {},
   "outputs": [
    {
     "name": "stdout",
     "output_type": "stream",
     "text": [
      "99\n"
     ]
    }
   ],
   "source": [
    "class gc:\n",
    "    #class variable\n",
    "    class_var = 99\n",
    "    def __init__(self,name,age,height):\n",
    "        self.name = name\n",
    "        self.age = age\n",
    "        self.height = height\n",
    "obj1 = gc(\"Aryan\",21,21)\n",
    "obj1.class_var  =20\n",
    "print(gc.class_var)\n",
    "#we cannot change class variables using objects    "
   ]
  },
  {
   "cell_type": "code",
   "execution_count": null,
   "id": "7f1bda6c",
   "metadata": {},
   "outputs": [],
   "source": []
  }
 ],
 "metadata": {
  "kernelspec": {
   "display_name": "Python 3 (ipykernel)",
   "language": "python",
   "name": "python3"
  },
  "language_info": {
   "codemirror_mode": {
    "name": "ipython",
    "version": 3
   },
   "file_extension": ".py",
   "mimetype": "text/x-python",
   "name": "python",
   "nbconvert_exporter": "python",
   "pygments_lexer": "ipython3",
   "version": "3.11.4"
  }
 },
 "nbformat": 4,
 "nbformat_minor": 5
}
