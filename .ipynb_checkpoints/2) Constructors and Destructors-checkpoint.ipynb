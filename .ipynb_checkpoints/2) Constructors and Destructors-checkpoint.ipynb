{
 "cells": [
  {
   "cell_type": "code",
   "execution_count": 7,
   "id": "3383e61f",
   "metadata": {},
   "outputs": [
    {
     "name": "stdout",
     "output_type": "stream",
     "text": [
      "{'name': 'Aryan', 'age': '20', 'height': 20}\n"
     ]
    }
   ],
   "source": [
    "class gc:\n",
    "    def set_attribute(self,name,age,height): #imitating constructor \n",
    "        self.name = name\n",
    "        self.age = age\n",
    "        self.height = height\n",
    "obj1 = gc()\n",
    "obj1.set_attribute(\"Aryan\",'20',20)\n",
    "print(obj1.__dict__) #dont use this for objects"
   ]
  },
  {
   "cell_type": "code",
   "execution_count": null,
   "id": "55440ddf",
   "metadata": {},
   "outputs": [],
   "source": [
    "#the issue here is that we will need to write set_attribute everytime whenever we are going to make an object\n"
   ]
  },
  {
   "cell_type": "code",
   "execution_count": null,
   "id": "b15ec7bd",
   "metadata": {},
   "outputs": [],
   "source": [
    "'''\n",
    "to fix this we have special method __init__() which will be the constructor and will be automatically called when an object is\n",
    "initialised but before that __new__() is called when object is created\n",
    "\n",
    "basically we just overload __init__()\n",
    "\n",
    "Note-> init is not constructor of a class instead __new__() is constructor\n",
    "'''"
   ]
  },
  {
   "cell_type": "code",
   "execution_count": 9,
   "id": "3624623e",
   "metadata": {},
   "outputs": [
    {
     "name": "stdout",
     "output_type": "stream",
     "text": [
      "{'name': 'Aryan', 'age': 21, 'height': 21}\n"
     ]
    }
   ],
   "source": [
    "class gc:\n",
    "    def __init__(self,name,age,height):\n",
    "        self.name = name\n",
    "        self.age = age\n",
    "        self.height = height\n",
    "#implicit call to __init__() is made\n",
    "obj1 = gc(\"Aryan\",21,21)\n",
    "print(obj1.__dict__)"
   ]
  },
  {
   "cell_type": "code",
   "execution_count": 23,
   "id": "33480d98",
   "metadata": {},
   "outputs": [
    {
     "name": "stdout",
     "output_type": "stream",
     "text": [
      "{'name': 'Aryan', 'age': 21, 'height': 21}\n",
      "Aryan is deleted! heheheheh\n"
     ]
    },
    {
     "ename": "NameError",
     "evalue": "name 'obj1' is not defined",
     "output_type": "error",
     "traceback": [
      "\u001b[1;31m---------------------------------------------------------------------------\u001b[0m",
      "\u001b[1;31mNameError\u001b[0m                                 Traceback (most recent call last)",
      "Cell \u001b[1;32mIn[23], line 14\u001b[0m\n\u001b[0;32m     12\u001b[0m \u001b[38;5;28mprint\u001b[39m(obj1\u001b[38;5;241m.\u001b[39m\u001b[38;5;18m__dict__\u001b[39m)\n\u001b[0;32m     13\u001b[0m \u001b[38;5;28;01mdel\u001b[39;00m obj1\n\u001b[1;32m---> 14\u001b[0m \u001b[38;5;28mprint\u001b[39m(obj1\u001b[38;5;241m.\u001b[39m\u001b[38;5;18m__dict__\u001b[39m)\n",
      "\u001b[1;31mNameError\u001b[0m: name 'obj1' is not defined"
     ]
    }
   ],
   "source": [
    "#now for destructors __del__() is called automatically when an object is deleted\n",
    "#we can overload __del__() to display or do other things when an object is deleted\n",
    "class gc:\n",
    "    def __init__(self,name:str,age:int,height:int):\n",
    "        self.name = \"Aryan\"\n",
    "        self.age = 21\n",
    "        self.height = 21\n",
    "        \n",
    "    def __del__(self):\n",
    "        print(f\"{self.name} is deleted! heheheheh\")\n",
    "obj1 = gc(\"Aryan\",21,23)\n",
    "print(obj1.__dict__)\n",
    "del obj1 #at the end of execution of this cell obj1 and all other objects will be deleted anyways \n",
    "print(obj1.__dict__)"
   ]
  },
  {
   "cell_type": "code",
   "execution_count": null,
   "id": "e1dd6b53",
   "metadata": {},
   "outputs": [],
   "source": [
    "'''\n",
    "We already know that new attributes can be created though we haven't defined them explicitly in a class.\n",
    "\n",
    "Is it possible to control which exactly attributes can be created in a class?\n",
    "\n",
    "Yes! This is where __slots__ attribute comes into play. It checks attributes and if some attributes haven't been defined in __slots__, an error is raised and new attributes aren't created.\n",
    "As a result, attributes in a class will be more consistent.\n",
    "'''"
   ]
  },
  {
   "cell_type": "code",
   "execution_count": 35,
   "id": "2274df65",
   "metadata": {},
   "outputs": [
    {
     "name": "stdout",
     "output_type": "stream",
     "text": [
      "{'name': 'Aryan', 'age': 21, 'height': 21}\n",
      "{'name': 'Aryan', 'age': 21, 'height': 21}\n"
     ]
    }
   ],
   "source": [
    "class gc:\n",
    "    \n",
    "    def __init__(self,name:str,age:int,height:int):\n",
    "        self.name = \"Aryan\"\n",
    "        self.age = 21\n",
    "        self.height = 21\n",
    "        \n",
    "    def __del__(self):\n",
    "        print(f\"{self.name} is deleted! heheheheh\")\n",
    "        \n",
    "obj1 = gc(\"Aryan\",21,21)\n",
    "obj2 = gc(\"Arjun\",21,21)\n",
    "print(obj1.__dict__)\n",
    "print(obj2.__dict__)\n"
   ]
  },
  {
   "cell_type": "code",
   "execution_count": 34,
   "id": "e63ecac5",
   "metadata": {
    "scrolled": true
   },
   "outputs": [
    {
     "ename": "AttributeError",
     "evalue": "'gc' object has no attribute '__dict__'",
     "output_type": "error",
     "traceback": [
      "\u001b[1;31m---------------------------------------------------------------------------\u001b[0m",
      "\u001b[1;31mAttributeError\u001b[0m                            Traceback (most recent call last)",
      "Cell \u001b[1;32mIn[34], line 1\u001b[0m\n\u001b[1;32m----> 1\u001b[0m \u001b[38;5;28mprint\u001b[39m(obj1\u001b[38;5;241m.\u001b[39m\u001b[38;5;18m__dict__\u001b[39m)\n",
      "\u001b[1;31mAttributeError\u001b[0m: 'gc' object has no attribute '__dict__'"
     ]
    }
   ],
   "source": [
    "#this was a test dont use __dict__ on objects its a class attribute only\n"
   ]
  },
  {
   "cell_type": "code",
   "execution_count": 39,
   "id": "b0dc2384",
   "metadata": {},
   "outputs": [
    {
     "name": "stdout",
     "output_type": "stream",
     "text": [
      "Aryan is deleted! heheheheh\n"
     ]
    },
    {
     "ename": "AttributeError",
     "evalue": "'gc' object has no attribute 'number'",
     "output_type": "error",
     "traceback": [
      "\u001b[1;31m---------------------------------------------------------------------------\u001b[0m",
      "\u001b[1;31mAttributeError\u001b[0m                            Traceback (most recent call last)",
      "Cell \u001b[1;32mIn[39], line 13\u001b[0m\n\u001b[0;32m     10\u001b[0m         \u001b[38;5;28mprint\u001b[39m(\u001b[38;5;124mf\u001b[39m\u001b[38;5;124m\"\u001b[39m\u001b[38;5;132;01m{\u001b[39;00m\u001b[38;5;28mself\u001b[39m\u001b[38;5;241m.\u001b[39mname\u001b[38;5;132;01m}\u001b[39;00m\u001b[38;5;124m is deleted! heheheheh\u001b[39m\u001b[38;5;124m\"\u001b[39m)\n\u001b[0;32m     12\u001b[0m obj1 \u001b[38;5;241m=\u001b[39m gc(\u001b[38;5;124m\"\u001b[39m\u001b[38;5;124mAryan\u001b[39m\u001b[38;5;124m\"\u001b[39m,\u001b[38;5;241m21\u001b[39m,\u001b[38;5;241m21\u001b[39m)\n\u001b[1;32m---> 13\u001b[0m obj1\u001b[38;5;241m.\u001b[39mnumber \u001b[38;5;241m=\u001b[39m \u001b[38;5;241m200\u001b[39m\n",
      "\u001b[1;31mAttributeError\u001b[0m: 'gc' object has no attribute 'number'"
     ]
    }
   ],
   "source": [
    "class gc:\n",
    "    __slots__ = (\"name\",\"age\",\"height\")\n",
    "    \n",
    "    def __init__(self,name:str,age:int,height:int):\n",
    "        self.name = \"Aryan\"\n",
    "        self.age = 21\n",
    "        self.height = 21\n",
    "        \n",
    "    def __del__(self):\n",
    "        print(f\"{self.name} is deleted! heheheheh\")\n",
    "        \n",
    "obj1 = gc(\"Aryan\",21,21)\n",
    "obj1.number = 200 #this will throw error due to __slots__\n"
   ]
  }
 ],
 "metadata": {
  "kernelspec": {
   "display_name": "Python 3 (ipykernel)",
   "language": "python",
   "name": "python3"
  },
  "language_info": {
   "codemirror_mode": {
    "name": "ipython",
    "version": 3
   },
   "file_extension": ".py",
   "mimetype": "text/x-python",
   "name": "python",
   "nbconvert_exporter": "python",
   "pygments_lexer": "ipython3",
   "version": "3.11.4"
  }
 },
 "nbformat": 4,
 "nbformat_minor": 5
}
