{
 "cells": [
  {
   "cell_type": "code",
   "execution_count": 1,
   "id": "0d6fef88",
   "metadata": {},
   "outputs": [
    {
     "name": "stdout",
     "output_type": "stream",
     "text": [
      "<class '__main__.gc'>\n"
     ]
    }
   ],
   "source": [
    "#everything is object in python\n",
    "class gc:\n",
    "    pass\n",
    "var = gc()\n",
    "print(type(var))"
   ]
  },
  {
   "cell_type": "code",
   "execution_count": 2,
   "id": "f586f1a9",
   "metadata": {
    "scrolled": false
   },
   "outputs": [
    {
     "name": "stdout",
     "output_type": "stream",
     "text": [
      "<class 'type'>\n"
     ]
    }
   ],
   "source": [
    "print(type(type(var))) #every object belongs to the type class"
   ]
  },
  {
   "cell_type": "code",
   "execution_count": 6,
   "id": "d4b0b4e1",
   "metadata": {
    "scrolled": true
   },
   "outputs": [
    {
     "name": "stdout",
     "output_type": "stream",
     "text": [
      "<class 'type'>\n"
     ]
    }
   ],
   "source": [
    "print(type(type(type(var))))"
   ]
  },
  {
   "cell_type": "code",
   "execution_count": 7,
   "id": "2fed70a2",
   "metadata": {},
   "outputs": [],
   "source": [
    "class gc:\n",
    "    name = \"Aryan\"\n",
    "    num = 2\n",
    "    weight = 1"
   ]
  },
  {
   "cell_type": "code",
   "execution_count": 8,
   "id": "8ced936f",
   "metadata": {},
   "outputs": [
    {
     "data": {
      "text/plain": [
       "'Aryan'"
      ]
     },
     "execution_count": 8,
     "metadata": {},
     "output_type": "execute_result"
    }
   ],
   "source": [
    "var = gc()\n",
    "var.name"
   ]
  },
  {
   "cell_type": "code",
   "execution_count": 12,
   "id": "adbc72a7",
   "metadata": {},
   "outputs": [
    {
     "ename": "TypeError",
     "evalue": "gc.say() takes 0 positional arguments but 1 was given",
     "output_type": "error",
     "traceback": [
      "\u001b[1;31m---------------------------------------------------------------------------\u001b[0m",
      "\u001b[1;31mTypeError\u001b[0m                                 Traceback (most recent call last)",
      "Cell \u001b[1;32mIn[12], line 8\u001b[0m\n\u001b[0;32m      6\u001b[0m         \u001b[38;5;28mprint\u001b[39m(\u001b[38;5;124mf\u001b[39m\u001b[38;5;124m\"\u001b[39m\u001b[38;5;124mmy name is \u001b[39m\u001b[38;5;132;01m{\u001b[39;00mgc\u001b[38;5;241m.\u001b[39mname\u001b[38;5;132;01m}\u001b[39;00m\u001b[38;5;124m\"\u001b[39m)\n\u001b[0;32m      7\u001b[0m var \u001b[38;5;241m=\u001b[39m gc()\n\u001b[1;32m----> 8\u001b[0m var\u001b[38;5;241m.\u001b[39msay()\n",
      "\u001b[1;31mTypeError\u001b[0m: gc.say() takes 0 positional arguments but 1 was given"
     ]
    }
   ],
   "source": [
    "class gc:\n",
    "    name = \"Aryan\"\n",
    "    num = 2\n",
    "    weight = 1\n",
    "    def say():\n",
    "        print(f\"my name is {gc.name}\")\n",
    "var = gc()\n",
    "var.say()\n",
    "    "
   ]
  },
  {
   "cell_type": "code",
   "execution_count": 13,
   "id": "964799c4",
   "metadata": {},
   "outputs": [
    {
     "ename": "NameError",
     "evalue": "name 'say' is not defined",
     "output_type": "error",
     "traceback": [
      "\u001b[1;31m---------------------------------------------------------------------------\u001b[0m",
      "\u001b[1;31mNameError\u001b[0m                                 Traceback (most recent call last)",
      "Cell \u001b[1;32mIn[13], line 8\u001b[0m\n\u001b[0;32m      6\u001b[0m         \u001b[38;5;28mprint\u001b[39m(\u001b[38;5;124mf\u001b[39m\u001b[38;5;124m\"\u001b[39m\u001b[38;5;124mmy name is \u001b[39m\u001b[38;5;132;01m{\u001b[39;00mgc\u001b[38;5;241m.\u001b[39mname\u001b[38;5;132;01m}\u001b[39;00m\u001b[38;5;124m\"\u001b[39m)\n\u001b[0;32m      7\u001b[0m var \u001b[38;5;241m=\u001b[39m gc()\n\u001b[1;32m----> 8\u001b[0m say()\n",
      "\u001b[1;31mNameError\u001b[0m: name 'say' is not defined"
     ]
    }
   ],
   "source": [
    "class gc:\n",
    "    name = \"Aryan\"\n",
    "    num = 2\n",
    "    weight = 1\n",
    "    def say():\n",
    "        print(f\"my name is {gc.name}\")\n",
    "var = gc()\n",
    "say()"
   ]
  },
  {
   "cell_type": "code",
   "execution_count": 15,
   "id": "3d46d8a1",
   "metadata": {},
   "outputs": [
    {
     "name": "stdout",
     "output_type": "stream",
     "text": [
      "my name is Aryan\n"
     ]
    }
   ],
   "source": [
    "class gc:\n",
    "    name = \"Aryan\"\n",
    "    num = 2\n",
    "    weight = 1\n",
    "    def say(self):\n",
    "        print(f\"my name is {gc.name}\")\n",
    "var = gc()\n",
    "var.say()"
   ]
  },
  {
   "cell_type": "code",
   "execution_count": 16,
   "id": "e1c8b19e",
   "metadata": {},
   "outputs": [
    {
     "name": "stdout",
     "output_type": "stream",
     "text": [
      "my name is Aryan\n"
     ]
    }
   ],
   "source": [
    "class gc:\n",
    "    name = \"Aryan\"\n",
    "    num = 2\n",
    "    weight = 1\n",
    "    def say(self):\n",
    "        print(f\"my name is {self.name}\")\n",
    "var = gc()\n",
    "var.say()"
   ]
  },
  {
   "cell_type": "code",
   "execution_count": 28,
   "id": "787298dd",
   "metadata": {},
   "outputs": [
    {
     "data": {
      "text/plain": [
       "\"\\ngetattr(obj,'name')\\nsetattr(obj,'name',value)\\ndelattr(obj,'name')\\nhasattr(obj,'name')\\ndir(obj or class) returns complete set of attributes for an object or class\\nisinstance(obj,class)\\n\\n\""
      ]
     },
     "execution_count": 28,
     "metadata": {},
     "output_type": "execute_result"
    }
   ],
   "source": [
    "#built in attributes for each class\n",
    "'''\n",
    "__name__ name of the class\n",
    "__doc__ documentation\n",
    "__dict__ dictionary of local variables\n",
    "'''\n",
    "#built in Functions for each class\n",
    "'''\n",
    "getattr(obj,'name')\n",
    "setattr(obj,'name',value)\n",
    "delattr(obj,'name')\n",
    "hasattr(obj,'name')\n",
    "dir(obj or class) returns complete set of attributes for an object or class\n",
    "isinstance(obj,class)\n",
    "\n",
    "'''"
   ]
  },
  {
   "cell_type": "code",
   "execution_count": 17,
   "id": "4c9b83ec",
   "metadata": {},
   "outputs": [
    {
     "name": "stdout",
     "output_type": "stream",
     "text": [
      "my name is Aryan\n"
     ]
    }
   ],
   "source": [
    "class gc:\n",
    "    name = \"Aryan\"\n",
    "    num = 2\n",
    "    weight = 1\n",
    "    def say(self):\n",
    "        print(f\"my name is {self.name}\")\n",
    "var = gc()\n",
    "var.say()"
   ]
  },
  {
   "cell_type": "code",
   "execution_count": 25,
   "id": "202f1681",
   "metadata": {},
   "outputs": [
    {
     "name": "stdout",
     "output_type": "stream",
     "text": [
      "None\n",
      "gc\n",
      "{'__module__': '__main__', 'name': 'Aryan', 'num': 2, 'weight': 1, 'say': <function gc.say at 0x000002021AAA14E0>, '__dict__': <attribute '__dict__' of 'gc' objects>, '__weakref__': <attribute '__weakref__' of 'gc' objects>, '__doc__': None}\n"
     ]
    }
   ],
   "source": [
    "print(gc.__doc__)\n",
    "print(gc.__name__)\n",
    "print(gc.__dict__)"
   ]
  },
  {
   "cell_type": "code",
   "execution_count": 33,
   "id": "6ee14cf2",
   "metadata": {
    "scrolled": true
   },
   "outputs": [
    {
     "name": "stdout",
     "output_type": "stream",
     "text": [
      "1\n",
      "None\n",
      "3\n",
      "None\n",
      "1\n",
      "1\n"
     ]
    }
   ],
   "source": [
    "print(getattr(var,'weight'))\n",
    "print(setattr(var,'weight',3))\n",
    "print(getattr(var,'weight'))\n",
    "print(delattr(var,'weight'))\n",
    "print(getattr(var,'weight'))\n",
    "print(var.weight)"
   ]
  },
  {
   "cell_type": "code",
   "execution_count": 39,
   "id": "41ad7e63",
   "metadata": {},
   "outputs": [
    {
     "name": "stdout",
     "output_type": "stream",
     "text": [
      "False\n",
      "True\n",
      "['__class__', '__delattr__', '__dict__', '__dir__', '__doc__', '__eq__', '__format__', '__ge__', '__getattribute__', '__getstate__', '__gt__', '__hash__', '__init__', '__init_subclass__', '__le__', '__lt__', '__module__', '__ne__', '__new__', '__reduce__', '__reduce_ex__', '__repr__', '__setattr__', '__sizeof__', '__str__', '__subclasshook__', '__weakref__', 'name', 'num', 'say', 'weight']\n",
      "\n",
      "\n",
      "['__class__', '__delattr__', '__dict__', '__dir__', '__doc__', '__eq__', '__format__', '__ge__', '__getattribute__', '__getstate__', '__gt__', '__hash__', '__init__', '__init_subclass__', '__le__', '__lt__', '__module__', '__ne__', '__new__', '__reduce__', '__reduce_ex__', '__repr__', '__setattr__', '__sizeof__', '__str__', '__subclasshook__', '__weakref__', 'name', 'num', 'say', 'weight']\n"
     ]
    }
   ],
   "source": [
    "print(hasattr(var,'size'))\n",
    "print(isinstance(var,gc))\n",
    "print(dir(gc))\n",
    "print(\"\\n\")\n",
    "print(dir(var))"
   ]
  },
  {
   "cell_type": "code",
   "execution_count": 40,
   "id": "efd4a241",
   "metadata": {
    "scrolled": true
   },
   "outputs": [
    {
     "data": {
      "text/plain": [
       "mappingproxy({'__module__': '__main__',\n",
       "              'name': 'Aryan',\n",
       "              'num': 2,\n",
       "              'weight': 1,\n",
       "              'say': <function __main__.gc.say(self)>,\n",
       "              '__dict__': <attribute '__dict__' of 'gc' objects>,\n",
       "              '__weakref__': <attribute '__weakref__' of 'gc' objects>,\n",
       "              '__doc__': None})"
      ]
     },
     "execution_count": 40,
     "metadata": {},
     "output_type": "execute_result"
    }
   ],
   "source": [
    "#we cannot change class variables from outside\n",
    "var.weight = 200\n",
    "gc.__dict__\n",
    "#as we can see inside class weight is still 1\n",
    "#so only for this pparticular object \"var\" weight is 200"
   ]
  },
  {
   "cell_type": "code",
   "execution_count": 44,
   "id": "c6ac0373",
   "metadata": {},
   "outputs": [
    {
     "data": {
      "text/plain": [
       "1"
      ]
     },
     "execution_count": 44,
     "metadata": {},
     "output_type": "execute_result"
    }
   ],
   "source": [
    "obj = gc()\n",
    "obj.weight\n",
    "#as u can see weight is still 1 only"
   ]
  },
  {
   "cell_type": "code",
   "execution_count": 50,
   "id": "543aeddc",
   "metadata": {},
   "outputs": [
    {
     "name": "stdout",
     "output_type": "stream",
     "text": [
      "{'__module__': '__main__', 'name': 'Aryan', 'num': 2, 'weight': 1, 'say': <function gc.say at 0x000002021AAA14E0>, '__dict__': <attribute '__dict__' of 'gc' objects>, '__weakref__': <attribute '__weakref__' of 'gc' objects>, '__doc__': None}\n",
      "Tarafdar\n"
     ]
    }
   ],
   "source": [
    "#we can create new attributes from outside of class for an object\n",
    "var.last_name = \"Tarafdar\"\n",
    "print(gc.__dict__)\n",
    "print(var.last_name)\n"
   ]
  },
  {
   "cell_type": "code",
   "execution_count": null,
   "id": "16a329e1",
   "metadata": {},
   "outputs": [],
   "source": [
    "#if a class method does not take in an object as a parameter then its a static method"
   ]
  }
 ],
 "metadata": {
  "kernelspec": {
   "display_name": "Python 3 (ipykernel)",
   "language": "python",
   "name": "python3"
  },
  "language_info": {
   "codemirror_mode": {
    "name": "ipython",
    "version": 3
   },
   "file_extension": ".py",
   "mimetype": "text/x-python",
   "name": "python",
   "nbconvert_exporter": "python",
   "pygments_lexer": "ipython3",
   "version": "3.11.4"
  }
 },
 "nbformat": 4,
 "nbformat_minor": 5
}
