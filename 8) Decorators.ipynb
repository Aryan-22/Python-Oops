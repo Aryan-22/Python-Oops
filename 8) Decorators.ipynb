{
 "cells": [
  {
   "cell_type": "code",
   "execution_count": null,
   "metadata": {},
   "outputs": [],
   "source": [
    "'''\n",
    "Decorator is just a function which takes another function as an argument and changes or extends its logic without changing any line of code (I personally think that extends is a more appropriate word because decorated function must be executed anyway and only after we change the logic). Defining only a decorator once we can apply it many times and change the logic of any function, amazing, isn't it?\n",
    "\n",
    "Decorators can be applied to:\n",
    "\n",
    "Classes (in this case decorator takes a class as an argument. However, applying a decorator on a class doesn't affect class methods)\n",
    "Methods (takes a method as an argument)\n",
    "'''"
   ]
  },
  {
   "cell_type": "code",
   "execution_count": null,
   "metadata": {},
   "outputs": [],
   "source": [
    "'''\n",
    " functional paradigm functions are first-class functions. First-class functions are just more flexible and have the following properties:\n",
    "\n",
    "Functions can be saved into variables;\n",
    "Functions can be defined inside other functions (function nesting);\n",
    "Functions can be passed as arguments into another function or functions\n",
    "'''"
   ]
  },
  {
   "cell_type": "markdown",
   "metadata": {},
   "source": [
    "CLOSURE"
   ]
  },
  {
   "cell_type": "code",
   "execution_count": null,
   "metadata": {},
   "outputs": [],
   "source": [
    "'''\n",
    "Closure is simply when a nested function has an access to arguments of the outermost function.\n",
    "'''"
   ]
  },
  {
   "cell_type": "code",
   "execution_count": 3,
   "metadata": {},
   "outputs": [
    {
     "name": "stdout",
     "output_type": "stream",
     "text": [
      "<function outer.<locals>.inner at 0x000002091A6FFC40>\n",
      "300\n",
      "300\n"
     ]
    }
   ],
   "source": [
    "def outer(a,b):\n",
    "    curr = 100\n",
    "    def inner():\n",
    "        if curr >= 100:\n",
    "            return a * b + curr\n",
    "        return 0\n",
    "    \n",
    "    return inner\n",
    "print(outer(10,20))\n",
    "res = outer(10,20)\n",
    "print(res())\n",
    "print(outer(10,20)())"
   ]
  },
  {
   "cell_type": "markdown",
   "metadata": {},
   "source": [
    "WRAPPER Function"
   ]
  },
  {
   "cell_type": "code",
   "execution_count": null,
   "metadata": {},
   "outputs": [],
   "source": [
    "'''\n",
    "it is just a nested function of a decorator which\n",
    "executes the decorated function and extends its behaviour   \n",
    "'''"
   ]
  },
  {
   "cell_type": "code",
   "execution_count": 4,
   "metadata": {},
   "outputs": [
    {
     "name": "stdout",
     "output_type": "stream",
     "text": [
      "6\n",
      "Hi ,you are inside me!! (wrapper)\n",
      "to_be_decorated_function decorated\n"
     ]
    }
   ],
   "source": [
    "def decorator(to_be_decorated_function):\n",
    "    def wrapper():\n",
    "        to_be_decorated_function()\n",
    "        print('Hi ,you are inside me!! (wrapper)')\n",
    "        print(\"to_be_decorated_function decorated\")\n",
    "    return wrapper\n",
    "\n",
    "def print_6():\n",
    "    print(6)\n",
    "\n",
    "f = decorator(print_6)\n",
    "f()"
   ]
  },
  {
   "cell_type": "markdown",
   "metadata": {},
   "source": [
    "IMPLEMENTING DECORATORS"
   ]
  },
  {
   "cell_type": "code",
   "execution_count": 7,
   "metadata": {},
   "outputs": [
    {
     "name": "stdout",
     "output_type": "stream",
     "text": [
      "good morning\n",
      "ARYAN has called this function\n",
      "good morning\n",
      "El Primo has called this function\n"
     ]
    }
   ],
   "source": [
    "def show_name(f):\n",
    "    def wrapper(self,*args,**kwargs): ##so that it can take all parameters of f\n",
    "        f(self,*args,**kwargs)\n",
    "        print(f\"{self.name} has called this function\")\n",
    "    return wrapper\n",
    "\n",
    "class gc:\n",
    "    def __init__(self,name,age,hair_color):\n",
    "        self.name = name\n",
    "        self.age = age\n",
    "        self.hair_color = hair_color\n",
    "    @show_name\n",
    "    def greet(self):\n",
    "        print(\"good morning\")\n",
    "    @show_name\n",
    "    def antigreet(self):\n",
    "        print(\"bad morning\")\n",
    "\n",
    "obj1 = gc(\"ARYAN\",21,\"brown\")\n",
    "obj2 = gc(\"El Primo\",35,\"blue\")\n",
    "\n",
    "obj1.greet()\n",
    "obj2.greet()\n"
   ]
  },
  {
   "cell_type": "code",
   "execution_count": null,
   "metadata": {},
   "outputs": [],
   "source": [
    "'''\n",
    "Unbelievable, defining the decorator @show_name only once we were able to extend the logic of all defined function in the Witcher class. I hope, the example has demonstrated how powerful decorators can be.\n",
    "'''"
   ]
  },
  {
   "cell_type": "code",
   "execution_count": 8,
   "metadata": {},
   "outputs": [
    {
     "name": "stdout",
     "output_type": "stream",
     "text": [
      "wrapper\n"
     ]
    }
   ],
   "source": [
    "print(obj1.greet.__name__) ##trying to get the name of decorated function but it shows wrapper which is wrong"
   ]
  },
  {
   "cell_type": "code",
   "execution_count": 10,
   "metadata": {},
   "outputs": [
    {
     "name": "stdout",
     "output_type": "stream",
     "text": [
      "good morning\n",
      "ARYAN has called this function\n",
      "good morning\n",
      "El Primo has called this function\n",
      "greet\n"
     ]
    }
   ],
   "source": [
    "def show_name(f):\n",
    "    def wrapper(self,*args,**kwargs): ##so that it can take all parameters of f\n",
    "        f(self,*args,**kwargs)\n",
    "        print(f\"{self.name} has called this function\")\n",
    "\n",
    "    wrapper.__name__ = f.__name__\n",
    "    wrapper.__doc__ = f.__doc__\n",
    "    return wrapper\n",
    "\n",
    "class gc:\n",
    "    def __init__(self,name,age,hair_color):\n",
    "        self.name = name\n",
    "        self.age = age\n",
    "        self.hair_color = hair_color\n",
    "    @show_name\n",
    "    def greet(self):\n",
    "        print(\"good morning\")\n",
    "    @show_name\n",
    "    def antigreet(self):\n",
    "        print(\"bad morning\")\n",
    "\n",
    "obj1 = gc(\"ARYAN\",21,\"brown\")\n",
    "obj2 = gc(\"El Primo\",35,\"blue\")\n",
    "\n",
    "obj1.greet()\n",
    "obj2.greet()\n",
    "print(obj1.greet.__name__)"
   ]
  },
  {
   "cell_type": "code",
   "execution_count": null,
   "metadata": {},
   "outputs": [],
   "source": [
    "'''\n",
    "there is a better way to fix this issue\n",
    "from functools import wraps and use it as decorator for wrapper function\n",
    "'''"
   ]
  },
  {
   "cell_type": "code",
   "execution_count": 12,
   "metadata": {},
   "outputs": [
    {
     "name": "stdout",
     "output_type": "stream",
     "text": [
      "good morning\n",
      "ARYAN has called this function\n",
      "good morning\n",
      "El Primo has called this function\n",
      "greet\n"
     ]
    }
   ],
   "source": [
    "from functools import wraps\n",
    "def show_name(f):\n",
    "    @wraps(f)\n",
    "    def wrapper(self,*args,**kwargs): ##so that it can take all parameters of f\n",
    "        f(self,*args,**kwargs)\n",
    "        print(f\"{self.name} has called this function\")\n",
    "    return wrapper\n",
    "\n",
    "class gc:\n",
    "    def __init__(self,name,age,hair_color):\n",
    "        self.name = name\n",
    "        self.age = age\n",
    "        self.hair_color = hair_color\n",
    "    @show_name\n",
    "    def greet(self):\n",
    "        print(\"good morning\")\n",
    "    @show_name\n",
    "    def antigreet(self):\n",
    "        print(\"bad morning\")\n",
    "\n",
    "obj1 = gc(\"ARYAN\",21,\"brown\")\n",
    "obj2 = gc(\"El Primo\",35,\"blue\")\n",
    "\n",
    "obj1.greet()\n",
    "obj2.greet()\n",
    "print(obj1.greet.__name__)"
   ]
  },
  {
   "cell_type": "markdown",
   "metadata": {},
   "source": [
    "BUILT IN DECORATORS IN PYTHON"
   ]
  },
  {
   "cell_type": "code",
   "execution_count": null,
   "metadata": {},
   "outputs": [],
   "source": [
    "'''\n",
    "1)@classmethod\n",
    "2)@staticmethod\n",
    "3)@property\n",
    "\n",
    "we know the first 2 already\n",
    "\n",
    "property decorator basically transforms a function into a field,Create methods for getting/setting and deleting property values in a more convenient way.\n",
    "'''"
   ]
  },
  {
   "cell_type": "code",
   "execution_count": 13,
   "metadata": {},
   "outputs": [
    {
     "name": "stdout",
     "output_type": "stream",
     "text": [
      "1\n"
     ]
    }
   ],
   "source": [
    "class gc:\n",
    "    def __init__(self,name,age,hair_color):\n",
    "        self.name = name\n",
    "        self.age = age\n",
    "        self.hair_color = hair_color\n",
    "    @property\n",
    "    def return_1(self):\n",
    "        return 1\n",
    "obj1 = gc(\"Aryan\",20,\"black\")\n",
    "print(obj1.return_1)"
   ]
  },
  {
   "cell_type": "code",
   "execution_count": 15,
   "metadata": {},
   "outputs": [
    {
     "name": "stdout",
     "output_type": "stream",
     "text": [
      "1\n"
     ]
    },
    {
     "ename": "AttributeError",
     "evalue": "property 'return_1' of 'gc' object has no setter",
     "output_type": "error",
     "traceback": [
      "\u001b[1;31m---------------------------------------------------------------------------\u001b[0m",
      "\u001b[1;31mAttributeError\u001b[0m                            Traceback (most recent call last)",
      "Cell \u001b[1;32mIn[15], line 15\u001b[0m\n\u001b[0;32m     13\u001b[0m obj1 \u001b[38;5;241m=\u001b[39m gc(\u001b[38;5;124m\"\u001b[39m\u001b[38;5;124mAryan\u001b[39m\u001b[38;5;124m\"\u001b[39m,\u001b[38;5;241m20\u001b[39m,\u001b[38;5;124m\"\u001b[39m\u001b[38;5;124mblack\u001b[39m\u001b[38;5;124m\"\u001b[39m)\n\u001b[0;32m     14\u001b[0m \u001b[38;5;28mprint\u001b[39m(obj1\u001b[38;5;241m.\u001b[39mreturn_1)\n\u001b[1;32m---> 15\u001b[0m \u001b[43mobj1\u001b[49m\u001b[38;5;241;43m.\u001b[39;49m\u001b[43mreturn_1\u001b[49m \u001b[38;5;241m=\u001b[39m \u001b[38;5;241m2\u001b[39m\n",
      "\u001b[1;31mAttributeError\u001b[0m: property 'return_1' of 'gc' object has no setter"
     ]
    }
   ],
   "source": [
    "#you can also do this\n",
    "class gc:\n",
    "    def __init__(self,name,age,hair_color):\n",
    "        self.name = name\n",
    "        self.age = age\n",
    "        self.hair_color = hair_color\n",
    "    @property\n",
    "    def return_1(self):\n",
    "        return 1\n",
    "    \n",
    "    def another_function(self):\n",
    "        return self.return_1()\n",
    "obj1 = gc(\"Aryan\",20,\"black\")\n",
    "print(obj1.return_1)\n",
    "obj1.return_1 = 2\n",
    "#as you can see we cant really change or delete this property\n",
    "#for this we will have to make setter and deleter"
   ]
  },
  {
   "cell_type": "code",
   "execution_count": null,
   "metadata": {},
   "outputs": [],
   "source": [
    "'''\n",
    "Keep in mind that there are two options of defining the getters, setters and deleters:\n",
    "\n",
    "Using @property decorator;\n",
    "Using property class\n",
    "'''"
   ]
  },
  {
   "cell_type": "code",
   "execution_count": 17,
   "metadata": {},
   "outputs": [
    {
     "name": "stdout",
     "output_type": "stream",
     "text": [
      "2\n",
      "2\n"
     ]
    }
   ],
   "source": [
    "#property class implementation\n",
    "class gc:\n",
    "    __counter = 0\n",
    "    def __init__(self,name,age,hair_color):\n",
    "        self.name = name\n",
    "        self.age = age\n",
    "        self.hair_color = hair_color\n",
    "        self.__class__.__counter += 1\n",
    "\n",
    "    def _setter(self,val):\n",
    "        if isinstance(val,int):\n",
    "            self.__class__counter = val\n",
    "\n",
    "        else:\n",
    "            raise TypeError\n",
    "        \n",
    "    def _getter(self):\n",
    "        return self.__class__.__counter\n",
    "    \n",
    "    def _drop(self):\n",
    "        del self.__class__.__counter\n",
    "\n",
    "    def __del__(self):\n",
    "        self.__class__.__counter -= 1\n",
    "    counter = property(_getter,_setter,_drop,\"Count of gc\")\n",
    "obj1 = gc(\"Aryan\",21,\"brown\")\n",
    "obj2 = gc(\"El primo\",35,\"blue\")\n",
    "print(obj1.counter)\n",
    "obj1.counter = 69\n",
    "print(obj1.counter)\n"
   ]
  }
 ],
 "metadata": {
  "kernelspec": {
   "display_name": "Python 3",
   "language": "python",
   "name": "python3"
  },
  "language_info": {
   "codemirror_mode": {
    "name": "ipython",
    "version": 3
   },
   "file_extension": ".py",
   "mimetype": "text/x-python",
   "name": "python",
   "nbconvert_exporter": "python",
   "pygments_lexer": "ipython3",
   "version": "3.11.4"
  }
 },
 "nbformat": 4,
 "nbformat_minor": 2
}
