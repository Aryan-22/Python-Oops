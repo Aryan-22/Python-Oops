{
 "cells": [
  {
   "cell_type": "code",
   "execution_count": 7,
   "id": "5a59ac90",
   "metadata": {},
   "outputs": [
    {
     "name": "stdout",
     "output_type": "stream",
     "text": [
      "99\n"
     ]
    },
    {
     "ename": "AttributeError",
     "evalue": "type object 'gc' has no attribute 'name'",
     "output_type": "error",
     "traceback": [
      "\u001b[1;31m---------------------------------------------------------------------------\u001b[0m",
      "\u001b[1;31mAttributeError\u001b[0m                            Traceback (most recent call last)",
      "Cell \u001b[1;32mIn[7], line 14\u001b[0m\n\u001b[0;32m     10\u001b[0m \u001b[38;5;28mprint\u001b[39m(gc\u001b[38;5;241m.\u001b[39mclass_var)\n\u001b[0;32m     11\u001b[0m \u001b[38;5;66;03m#we cannot change class variables using objects\u001b[39;00m\n\u001b[0;32m     12\u001b[0m \u001b[38;5;66;03m#class attributes can be accessed by class and objects\u001b[39;00m\n\u001b[0;32m     13\u001b[0m \u001b[38;5;66;03m#object attributes can only be accesed by objects\u001b[39;00m\n\u001b[1;32m---> 14\u001b[0m \u001b[38;5;28mprint\u001b[39m(gc\u001b[38;5;241m.\u001b[39mname)\n",
      "\u001b[1;31mAttributeError\u001b[0m: type object 'gc' has no attribute 'name'"
     ]
    }
   ],
   "source": [
    "class gc:\n",
    "    #class attributes\n",
    "    class_var = 99\n",
    "    def __init__(self,name,age,height):\n",
    "        self.name = name\n",
    "        self.age = age\n",
    "        self.height = height\n",
    "obj1 = gc(\"Aryan\",21,21)\n",
    "obj1.class_var  =20\n",
    "print(gc.class_var)\n",
    "#we cannot change class variables using objects\n",
    "#class attributes can be accessed by class and objects\n",
    "#object attributes can only be accesed by objects\n",
    "print(gc.name)"
   ]
  },
  {
   "cell_type": "code",
   "execution_count": null,
   "id": "2a4f0781",
   "metadata": {},
   "outputs": [],
   "source": []
  }
 ],
 "metadata": {
  "kernelspec": {
   "display_name": "Python 3 (ipykernel)",
   "language": "python",
   "name": "python3"
  },
  "language_info": {
   "codemirror_mode": {
    "name": "ipython",
    "version": 3
   },
   "file_extension": ".py",
   "mimetype": "text/x-python",
   "name": "python",
   "nbconvert_exporter": "python",
   "pygments_lexer": "ipython3",
   "version": "3.11.4"
  }
 },
 "nbformat": 4,
 "nbformat_minor": 5
}
