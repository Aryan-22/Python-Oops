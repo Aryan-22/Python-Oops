{
 "cells": [
  {
   "cell_type": "markdown",
   "metadata": {},
   "source": [
    "INHERITANCE"
   ]
  },
  {
   "cell_type": "code",
   "execution_count": 4,
   "metadata": {},
   "outputs": [
    {
     "name": "stdout",
     "output_type": "stream",
     "text": [
      "stay away from me!\n",
      "El Primo\n",
      "Sup my neighbour,my name is El Primo\n"
     ]
    }
   ],
   "source": [
    "class gc():\n",
    "\n",
    "    def __init__(self,name,age,hair_color):\n",
    "        self.name = name\n",
    "        self.age = age\n",
    "        self.hair_color = hair_color\n",
    "    \n",
    "    def greeting(self):\n",
    "        return f'Sup my neighbour,my name is {self.name}'\n",
    "    \n",
    "    def farewell(self):\n",
    "        return \"Farewell\"\n",
    "class child(gc):\n",
    "    #we dont need to make a constructor as \n",
    "    #it will inherit it from its parent\n",
    "    def anti_greeting(self):\n",
    "        return \"stay away from me!\"\n",
    "obj1 = child(\"El Primo\",5,\"blue\")\n",
    "print(obj1.anti_greeting())\n",
    "print(obj1.name)\n",
    "print(obj1.greeting())\n",
    "\n",
    "    "
   ]
  },
  {
   "cell_type": "markdown",
   "metadata": {},
   "source": [
    "POLYMORPHISM"
   ]
  },
  {
   "cell_type": "code",
   "execution_count": null,
   "metadata": {},
   "outputs": [],
   "source": [
    "'''\n",
    "-->Method Overloading is an example of Compile time polymorphism. In this, more than one method of the same class shares the same method name having different signatures. Method overloading is used to add more to the behavior of methods and there is no need of more than one class for method overloading.\n",
    "\n",
    "-->Python does not support method overloading. We may overload the methods but can only use the latest defined method.\n",
    "-->Inheritance may or may not be required\n",
    "-->signature of methods may differ and method names should be same\n",
    "'''"
   ]
  },
  {
   "cell_type": "code",
   "execution_count": null,
   "metadata": {},
   "outputs": [],
   "source": [
    "'''\n",
    "-->Method overriding is an example of run time polymorphism. In this, the specific implementation of the method that is already provided by the parent class is provided by the child class. It is used to change the behavior of existing methods and there is a need for at least two classes for method overriding. In method overriding, inheritance always required as it is done between parent class(superclass) and child class(child class) methods.\n",
    "\n",
    "-->methods should have same signature and same name\n",
    "-->Inheritance is needed for overriding\n",
    "'''"
   ]
  },
  {
   "cell_type": "code",
   "execution_count": 5,
   "metadata": {},
   "outputs": [
    {
     "ename": "TypeError",
     "evalue": "p() missing 1 required positional argument: 'c'",
     "output_type": "error",
     "traceback": [
      "\u001b[1;31m---------------------------------------------------------------------------\u001b[0m",
      "\u001b[1;31mTypeError\u001b[0m                                 Traceback (most recent call last)",
      "Cell \u001b[1;32mIn[5], line 7\u001b[0m\n\u001b[0;32m      5\u001b[0m \u001b[38;5;28;01mdef\u001b[39;00m \u001b[38;5;21mp\u001b[39m(a,b,c):\n\u001b[0;32m      6\u001b[0m     \u001b[38;5;28;01mreturn\u001b[39;00m a \u001b[38;5;241m*\u001b[39m b \u001b[38;5;241m*\u001b[39m c\n\u001b[1;32m----> 7\u001b[0m \u001b[38;5;28mprint\u001b[39m(\u001b[43mp\u001b[49m\u001b[43m(\u001b[49m\u001b[38;5;241;43m2\u001b[39;49m\u001b[43m,\u001b[49m\u001b[38;5;241;43m3\u001b[39;49m\u001b[43m)\u001b[49m)\n",
      "\u001b[1;31mTypeError\u001b[0m: p() missing 1 required positional argument: 'c'"
     ]
    }
   ],
   "source": [
    "#Method overloading in python is not supported by default\n",
    "#but we can sneak our way to it \n",
    "#example\n",
    "def p(a,b):\n",
    "    return a * b\n",
    "def p(a,b,c):\n",
    "    return a * b * c\n",
    "print(p(2,3))"
   ]
  },
  {
   "cell_type": "code",
   "execution_count": 6,
   "metadata": {},
   "outputs": [
    {
     "name": "stdout",
     "output_type": "stream",
     "text": [
      "24\n"
     ]
    }
   ],
   "source": [
    "def p(a,b):\n",
    "    return a * b\n",
    "def p(a,b,c):\n",
    "    return a * b * c\n",
    "print(p(2,3,4))\n",
    "#only the last implementation of the function of same name executes\n",
    "#there are ways to achieve overloading (pseudo)\n",
    "#check in gfg"
   ]
  },
  {
   "cell_type": "code",
   "execution_count": 11,
   "metadata": {},
   "outputs": [
    {
     "name": "stdout",
     "output_type": "stream",
     "text": [
      "I am f1 of B\n"
     ]
    }
   ],
   "source": [
    "#overriding example\n",
    "class A():\n",
    "    def f1(self):\n",
    "        print(\"I am f1 of A\")\n",
    "    def f2(self):\n",
    "        print(\"I am f2 of A\")\n",
    "\n",
    "class B(A):\n",
    "    def f1(self):\n",
    "        print(\"I am f1 of B\")\n",
    "    def f2(self):\n",
    "        print(\"I am f2 of B\")\n",
    "obj = B()\n",
    "obj.f1()"
   ]
  },
  {
   "cell_type": "markdown",
   "metadata": {},
   "source": [
    "ENCAPSULATION"
   ]
  },
  {
   "cell_type": "code",
   "execution_count": null,
   "metadata": {},
   "outputs": [],
   "source": [
    "'''\n",
    "We are facing one more abstraction which is called encapsulation. As you may guess encapsulation means something that we want to hide and protect. Classes can be huge and complex and inside can be many auxiliary attributes and methods which must not be used outside a certain class. They are sort of small elements that provide stability for a class. Thus, we may want to protect stability elements of a class and not allow changing them in a usual way. But before we have to grasp access modifiers and how they differ because it's the core of the encapsulation mechanism\n",
    "'''"
   ]
  },
  {
   "cell_type": "code",
   "execution_count": null,
   "metadata": {},
   "outputs": [],
   "source": [
    "'''\n",
    "Access modifiers\n",
    "Public: attribute_name (can be accessed anywhere);\n",
    "Protected: _attribute_name (can be accessed only in the class as well as from all child classes);\n",
    "Private: __attribute_name (can be accessed only in that class in which has been defined)\n",
    "'''"
   ]
  },
  {
   "cell_type": "code",
   "execution_count": 12,
   "metadata": {},
   "outputs": [
    {
     "name": "stdout",
     "output_type": "stream",
     "text": [
      "blue\n",
      "22\n"
     ]
    },
    {
     "ename": "AttributeError",
     "evalue": "'gc' object has no attribute '__name'",
     "output_type": "error",
     "traceback": [
      "\u001b[1;31m---------------------------------------------------------------------------\u001b[0m",
      "\u001b[1;31mAttributeError\u001b[0m                            Traceback (most recent call last)",
      "Cell \u001b[1;32mIn[12], line 10\u001b[0m\n\u001b[0;32m      8\u001b[0m \u001b[38;5;28mprint\u001b[39m(obj\u001b[38;5;241m.\u001b[39mhair_color)\n\u001b[0;32m      9\u001b[0m \u001b[38;5;28mprint\u001b[39m(obj\u001b[38;5;241m.\u001b[39m_age)\n\u001b[1;32m---> 10\u001b[0m \u001b[38;5;28mprint\u001b[39m(\u001b[43mobj\u001b[49m\u001b[38;5;241;43m.\u001b[39;49m\u001b[43m__name\u001b[49m)\n",
      "\u001b[1;31mAttributeError\u001b[0m: 'gc' object has no attribute '__name'"
     ]
    }
   ],
   "source": [
    "class gc():\n",
    "    def __init__(self,name,age,hair_color):\n",
    "        self.__name = name\n",
    "        self._age = age\n",
    "        self.hair_color = hair_color\n",
    "\n",
    "obj = gc(\"Brock\",22,\"blue\")\n",
    "#we can only access public and protected attributes via objects\n",
    "\n",
    "print(obj.hair_color)\n",
    "print(obj._age)\n",
    "print(obj.__name)\n",
    "'''\n",
    "The above error tells us that the obj. __name doesn't exist. However, it does..we just hid it and it isn't available outside the class.\n",
    "\n",
    "the access modifier with a single underscore only indicates or tells that it's protected and can be used only in a certain class and its child classes. In other words, protected attributes just don't exist in Python.\n",
    "\n",
    " Single underscore only tells that the attribute protected and we shouldn't use it outside the class, otherwise it may lead to unpredictable errors because it's assumed not to be touched. If it's still difficult to grasp, here is a sort of a rule of thumb: if you see attributes with a single underscore, don't call them directly because they are inner service variables.\n",
    "'''"
   ]
  },
  {
   "cell_type": "code",
   "execution_count": 20,
   "metadata": {},
   "outputs": [
    {
     "name": "stderr",
     "output_type": "stream",
     "text": [
      "Exception ignored in: <function gc.__del__ at 0x0000017034D31440>\n",
      "Traceback (most recent call last):\n",
      "  File \"C:\\Users\\aryan\\AppData\\Local\\Temp\\ipykernel_2448\\4263945256.py\", line 14, in __del__\n",
      "AttributeError: 'gc' object has no attribute 'gc'\n"
     ]
    },
    {
     "name": "stdout",
     "output_type": "stream",
     "text": [
      "Grock\n"
     ]
    },
    {
     "ename": "AttributeError",
     "evalue": "'gc' object has no attribute 'name'",
     "output_type": "error",
     "traceback": [
      "\u001b[1;31m---------------------------------------------------------------------------\u001b[0m",
      "\u001b[1;31mAttributeError\u001b[0m                            Traceback (most recent call last)",
      "Cell \u001b[1;32mIn[20], line 31\u001b[0m\n\u001b[0;32m     29\u001b[0m obj2 \u001b[38;5;241m=\u001b[39m gc(\u001b[38;5;124m\"\u001b[39m\u001b[38;5;124mPaquito\u001b[39m\u001b[38;5;124m\"\u001b[39m,\u001b[38;5;241m30\u001b[39m,\u001b[38;5;241m5\u001b[39m)\n\u001b[0;32m     30\u001b[0m \u001b[38;5;28mprint\u001b[39m(obj1\u001b[38;5;241m.\u001b[39m_gc__name)\n\u001b[1;32m---> 31\u001b[0m \u001b[38;5;28mprint\u001b[39m(\u001b[43mobj1\u001b[49m\u001b[38;5;241;43m.\u001b[39;49m\u001b[43mname\u001b[49m)\n",
      "\u001b[1;31mAttributeError\u001b[0m: 'gc' object has no attribute 'name'"
     ]
    }
   ],
   "source": [
    "'''\n",
    "Even methods have access modifiers\n",
    "'''\n",
    "class gc:\n",
    "    __counter = 0 #private class attribute\n",
    "    def __init__(self,name,age,height):\n",
    "        self.__name = name\n",
    "        self.__age = age\n",
    "        self.__height = height\n",
    "\n",
    "        #we increase class attribute count whenever an object is initialised/created\n",
    "        self.__class__.__counter += 1\n",
    "    def __del__(self):\n",
    "        self.__class__.__counter -= 1\n",
    "\n",
    "    '''\n",
    "    Everything seems to be working! However, we can't access private attributes not to mention changing them.\n",
    "\n",
    "    How can we solve this problem?\n",
    "\n",
    "    I must say that there are several solutions. One of them is to use a special syntax:\n",
    " \n",
    "   obj.__class__.attribute/method_name;\n",
    "   obj._class_name__attribute/method name;  \n",
    "   class_name._class_name__counter\n",
    "    '''\n",
    "\n",
    "obj1 = gc(\"Grock\",303,23)\n",
    "obj2 = gc(\"Paquito\",30,5)\n",
    "print(obj1._gc__name) #way to change and use private attributes\n",
    "print(obj1.name)\n"
   ]
  },
  {
   "cell_type": "code",
   "execution_count": 17,
   "metadata": {},
   "outputs": [],
   "source": [
    "class gc:\n",
    "    counter = 0 #public class attribute\n",
    "    def __init__(self,name,age,height):\n",
    "        self.__name = name\n",
    "        self.__age = age\n",
    "        self.__height = height\n",
    "\n",
    "        #we increase class attribute count whenever an object is initialised/created\n",
    "        self.__class__.counter += 1\n",
    "    def __del__(self):\n",
    "        self.__class__.counter -= 1\n",
    "\n",
    "obj1 = gc(\"Grock\",303,23)\n",
    "obj2 = gc(\"Paquito\",30,5)\n",
    "    #just a test"
   ]
  },
  {
   "cell_type": "code",
   "execution_count": null,
   "metadata": {},
   "outputs": [],
   "source": []
  }
 ],
 "metadata": {
  "kernelspec": {
   "display_name": "Python 3",
   "language": "python",
   "name": "python3"
  },
  "language_info": {
   "codemirror_mode": {
    "name": "ipython",
    "version": 3
   },
   "file_extension": ".py",
   "mimetype": "text/x-python",
   "name": "python",
   "nbconvert_exporter": "python",
   "pygments_lexer": "ipython3",
   "version": "3.11.4"
  }
 },
 "nbformat": 4,
 "nbformat_minor": 2
}
