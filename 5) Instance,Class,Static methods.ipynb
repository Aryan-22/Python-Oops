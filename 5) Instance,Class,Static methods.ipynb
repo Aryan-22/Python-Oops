{
 "cells": [
  {
   "cell_type": "code",
   "execution_count": null,
   "metadata": {},
   "outputs": [],
   "source": [
    "'''\n",
    "not all methods have access to all attributes of a class\n",
    "\n",
    "Some methods can change only the state of the class,others state of objects\n",
    "'''"
   ]
  },
  {
   "cell_type": "markdown",
   "metadata": {},
   "source": [
    "CLASS METHOD"
   ]
  },
  {
   "cell_type": "code",
   "execution_count": 4,
   "metadata": {},
   "outputs": [
    {
     "name": "stdout",
     "output_type": "stream",
     "text": [
      "2\n",
      "2\n",
      "100\n",
      "100\n",
      "100\n",
      "{'__module__': '__main__', '_gc__counter': 100, '__init__': <function gc.__init__ at 0x000002331862A5C0>, 'get_counter': <classmethod(<function gc.get_counter at 0x000002331862A660>)>, 'set_counter': <classmethod(<function gc.set_counter at 0x0000023318629120>)>, '__dict__': <attribute '__dict__' of 'gc' objects>, '__weakref__': <attribute '__weakref__' of 'gc' objects>, '__doc__': None}\n"
     ]
    }
   ],
   "source": [
    "'''\n",
    "It takes cls as a parameter\n",
    "@classmethod can change class attributes\n",
    "'''\n",
    "class gc:\n",
    "    __counter = 0\n",
    "    def __init__(self, name,age,hair_color):\n",
    "        self.name = name\n",
    "        self.age = age\n",
    "        self.hair_color = hair_color\n",
    "        self.__class__.__counter += 1\n",
    "\n",
    "    @classmethod\n",
    "    def get_counter(cls):\n",
    "        return cls.__counter    \n",
    "    \n",
    "    @classmethod\n",
    "    def set_counter(cls,newval):\n",
    "        cls.__counter = newval\n",
    "        return cls.__counter\n",
    "obj1 = gc(\"Rosa\",26,'purple')\n",
    "obj2 = gc(\"Bibi\",20,\"black\")\n",
    "print(obj1.get_counter())\n",
    "print(obj2.get_counter())\n",
    "print(obj2.set_counter(100))\n",
    "print(obj1.get_counter())\n",
    "print(obj2.get_counter())\n",
    "print(gc.__dict__)\n",
    "    "
   ]
  },
  {
   "cell_type": "code",
   "execution_count": null,
   "metadata": {},
   "outputs": [],
   "source": [
    "'''\n",
    "Previously these methods took in neither an object nor a class what isn't right. Methods get_counter() and set_counter() are responsible for getting and changing the class attribute. Thus, it must be a class method. The current implementation is more appropriate and the first sight at the code gives more details (decorators indicate that these methods belong to the class)\n",
    "'''"
   ]
  },
  {
   "cell_type": "markdown",
   "metadata": {},
   "source": [
    "STATIC METHODS"
   ]
  },
  {
   "cell_type": "code",
   "execution_count": null,
   "metadata": {},
   "outputs": [],
   "source": [
    "'''\n",
    "These methods take in neither objects nor classes as arguments. Thus, their scope of attributes is strongly bounded. Attributes of classes and objects aren't available for them and they can't change the state of classes and objects. They can operate only those arguments which are defined in them. The main advantage of static methods that they don't depend on classes and objects. In addition, they can be called directly through a class without any objects creation. Calling these methods through objects is possible as well.\n",
    "'''"
   ]
  },
  {
   "cell_type": "code",
   "execution_count": 6,
   "metadata": {},
   "outputs": [
    {
     "name": "stdout",
     "output_type": "stream",
     "text": [
      "16\n",
      "26\n"
     ]
    }
   ],
   "source": [
    "import random\n",
    "class gc:\n",
    "    __counter = 0\n",
    "    @staticmethod\n",
    "    def get_age():\n",
    "        return random.randint(10,30)\n",
    "\n",
    "    def __init__(self, name,age,hair_color):\n",
    "        self.name = name\n",
    "        self.age = self.__class__.get_age()\n",
    "        self.hair_color = hair_color\n",
    "        self.__class__.__counter += 1\n",
    "\n",
    "    @classmethod\n",
    "    def get_counter(cls):\n",
    "        return cls.__counter    \n",
    "    \n",
    "    @classmethod\n",
    "    def set_counter(cls,newval):\n",
    "        cls.__counter = newval\n",
    "        return cls.__counter\n",
    "obj1 = gc(\"Rosa\",26,'purple')\n",
    "obj2 = gc(\"Bibi\",20,\"black\")\n",
    "print(obj1.age)\n",
    "print(obj2.age)"
   ]
  },
  {
   "cell_type": "code",
   "execution_count": null,
   "metadata": {},
   "outputs": [],
   "source": [
    "'''\n",
    "instance is same as before \n",
    "we access class attributes using self.__class__.__varname(if var is private)\n",
    "else\n",
    "self.__class__.varname\n",
    "instance methods are the strongest because they have access to both\n",
    "class and object attributes\n",
    "'''"
   ]
  },
  {
   "cell_type": "code",
   "execution_count": 8,
   "metadata": {},
   "outputs": [
    {
     "name": "stdout",
     "output_type": "stream",
     "text": [
      "-2\n",
      "-2\n",
      "-2\n"
     ]
    }
   ],
   "source": [
    "import random\n",
    "class gc:\n",
    "    __counter = 0\n",
    "    cnt  = 0\n",
    "    @staticmethod\n",
    "    def get_age():\n",
    "        return random.randint(10,30)\n",
    "\n",
    "    def __init__(self, name,age,hair_color):\n",
    "        self.name = name\n",
    "        self.age = self.__class__.get_age()\n",
    "        self.hair_color = hair_color\n",
    "        self.__class__.__counter += 1\n",
    "        self.__class__.cnt -= 1\n",
    "\n",
    "    @classmethod\n",
    "    def get_counter(cls):\n",
    "        return cls.__counter    \n",
    "    \n",
    "    @classmethod\n",
    "    def set_counter(cls,newval):\n",
    "        cls.__counter = newval\n",
    "        return cls.__counter\n",
    "obj1 = gc(\"Rosa\",26,'purple')\n",
    "obj2 = gc(\"Bibi\",20,\"black\")\n",
    "print(obj1.cnt)\n",
    "print(obj1.cnt)\n",
    "print(gc.cnt)\n",
    "#just a test"
   ]
  }
 ],
 "metadata": {
  "kernelspec": {
   "display_name": "Python 3",
   "language": "python",
   "name": "python3"
  },
  "language_info": {
   "codemirror_mode": {
    "name": "ipython",
    "version": 3
   },
   "file_extension": ".py",
   "mimetype": "text/x-python",
   "name": "python",
   "nbconvert_exporter": "python",
   "pygments_lexer": "ipython3",
   "version": "3.11.4"
  }
 },
 "nbformat": 4,
 "nbformat_minor": 2
}
